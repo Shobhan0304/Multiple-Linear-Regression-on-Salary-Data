{
  "nbformat": 4,
  "nbformat_minor": 0,
  "metadata": {
    "colab": {
      "provenance": [],
      "collapsed_sections": []
    },
    "kernelspec": {
      "name": "python3",
      "display_name": "Python 3"
    },
    "language_info": {
      "name": "python"
    }
  },
  "cells": [
    {
      "cell_type": "code",
      "execution_count": 1,
      "metadata": {
        "id": "QSJVo1cxHfnc"
      },
      "outputs": [],
      "source": [
        "#importing all packages\n",
        "import pandas as pd\n",
        "import numpy as np\n",
        "import matplotlib.pyplot as plt\n",
        "import seaborn as sns\n",
        "from sklearn.model_selection import train_test_split\n",
        "from sklearn.linear_model import LinearRegression\n",
        "from sklearn.metrics import mean_absolute_error"
      ]
    },
    {
      "cell_type": "code",
      "source": [
        "#Loading the Employee Salary dataset using the 'read_csv()' function from pandas library\n",
        "#The read_csv() function read the contents of a dataset stored in .csv or comma separated values format\n",
        "data = pd.read_csv('Salary_Data.csv')\n",
        "\n",
        "#Checking if the dataset was read properly\n",
        "print(data.head())"
      ],
      "metadata": {
        "colab": {
          "base_uri": "https://localhost:8080/"
        },
        "id": "8NHBwzAWNURR",
        "outputId": "bb85ebc0-8834-432b-a79e-737c0fff790e"
      },
      "execution_count": 2,
      "outputs": [
        {
          "output_type": "stream",
          "name": "stdout",
          "text": [
            "   YearsExperience   Age  Salary\n",
            "0              1.1  21.0   39343\n",
            "1              1.3  21.5   46205\n",
            "2              1.5  21.7   37731\n",
            "3              2.0  22.0   43525\n",
            "4              2.2  22.2   39891\n"
          ]
        }
      ]
    },
    {
      "cell_type": "code",
      "source": [
        "#Data preprocessing\n",
        "#Our prediction target or dependent variable is the 'Salary' column\n",
        "#Separating the dependent variable and the independent variables using dataframe slicing techniques from pandas library\n",
        "X = data.drop(columns=['Salary']) #independent variable\n",
        "y = data['Salary'] #dependent variable"
      ],
      "metadata": {
        "id": "isDD5QeMNZom"
      },
      "execution_count": 3,
      "outputs": []
    },
    {
      "cell_type": "code",
      "source": [
        "#Splitting the dataset into Training Set and Testing Set\n",
        "#Using the 'train_test_split' function from sklear library\n",
        "#The first parameter is the set of independent variables, the second parameter is the dependent variable\n",
        "#The 'test_size' parameter determines the size of the testing dataset. Here we will be using 20% of the dataset for testing\n",
        "X_train, X_test, y_train, y_test = train_test_split(X,y, test_size=0.2, random_state=0)"
      ],
      "metadata": {
        "id": "4v01JbIvOBFO"
      },
      "execution_count": 4,
      "outputs": []
    },
    {
      "cell_type": "code",
      "source": [
        "#Model Creation\n",
        "#Creating an instance of Linear Regression model\n",
        "lr = LinearRegression()\n",
        "\n",
        "#fitting the training set into the model\n",
        "lr.fit(X_train, y_train)"
      ],
      "metadata": {
        "colab": {
          "base_uri": "https://localhost:8080/"
        },
        "id": "q-6fw7DKOI86",
        "outputId": "56a4b0b2-2696-4cca-8cab-c0d2bc61a05f"
      },
      "execution_count": 5,
      "outputs": [
        {
          "output_type": "execute_result",
          "data": {
            "text/plain": [
              "LinearRegression()"
            ]
          },
          "metadata": {},
          "execution_count": 5
        }
      ]
    },
    {
      "cell_type": "code",
      "source": [
        "#Predicting test results\n",
        "predicted_value = lr.predict(X_test) #predicting on test values to check accuracy\n",
        "actual_value = lr.predict(X_train) #predicting on train values for comparision"
      ],
      "metadata": {
        "id": "GIJNyLs7OL5V"
      },
      "execution_count": 6,
      "outputs": []
    },
    {
      "cell_type": "code",
      "source": [
        "#Evaluating the accuracy score (mean absolute error)\n",
        "accuracy = mean_absolute_error(predicted_value, y_test)\n",
        "print(\"Mean absolute error: \",accuracy)"
      ],
      "metadata": {
        "colab": {
          "base_uri": "https://localhost:8080/"
        },
        "id": "bPzAJvrkOUl2",
        "outputId": "36436614-381e-46f5-a1a2-f6ff0cab7200"
      },
      "execution_count": 7,
      "outputs": [
        {
          "output_type": "stream",
          "name": "stdout",
          "text": [
            "Mean absolute error:  3103.1351185011395\n"
          ]
        }
      ]
    },
    {
      "cell_type": "code",
      "source": [
        "#Plotting a graph to visualise the train results\n",
        "sns.regplot(y_train, actual_value,ci=None)\n",
        "plt.title(\"Train set vs Actual Value\")\n",
        "plt.show()"
      ],
      "metadata": {
        "colab": {
          "base_uri": "https://localhost:8080/",
          "height": 351
        },
        "id": "wjJWIutxOXXH",
        "outputId": "f142e8a0-87b6-45f6-945a-5bae02418bd7"
      },
      "execution_count": 8,
      "outputs": [
        {
          "output_type": "stream",
          "name": "stderr",
          "text": [
            "/usr/local/lib/python3.7/dist-packages/seaborn/_decorators.py:43: FutureWarning: Pass the following variables as keyword args: x, y. From version 0.12, the only valid positional argument will be `data`, and passing other arguments without an explicit keyword will result in an error or misinterpretation.\n",
            "  FutureWarning\n"
          ]
        },
        {
          "output_type": "display_data",
          "data": {
            "text/plain": [
              "<Figure size 432x288 with 1 Axes>"
            ],
            "image/png": "[encoded data removed]"
          },
          "metadata": {
            "needs_background": "light"
          }
        }
      ]
    },
    {
      "cell_type": "code",
      "source": [
        "#Plotting a graph to visualise the test results\n",
        "sns.regplot(y_test, predicted_value,ci=None)\n",
        "plt.title(\"Test set vs Predicted Value\")\n",
        "plt.show()"
      ],
      "metadata": {
        "colab": {
          "base_uri": "https://localhost:8080/",
          "height": 351
        },
        "id": "2etlZ0VwOxZC",
        "outputId": "0dfe1e30-333b-48cb-82c0-d56e6291f8b6"
      },
      "execution_count": 9,
      "outputs": [
        {
          "output_type": "stream",
          "name": "stderr",
          "text": [
            "/usr/local/lib/python3.7/dist-packages/seaborn/_decorators.py:43: FutureWarning: Pass the following variables as keyword args: x, y. From version 0.12, the only valid positional argument will be `data`, and passing other arguments without an explicit keyword will result in an error or misinterpretation.\n",
            "  FutureWarning\n"
          ]
        },
        {
          "output_type": "display_data",
          "data": {
            "text/plain": [
              "<Figure size 432x288 with 1 Axes>"
            ],
            "image/png": "[encoded data removed]"
          },
          "metadata": {
            "needs_background": "light"
          }
        }
      ]
    },
    {
      "cell_type": "code",
      "source": [],
      "metadata": {
        "id": "NBgNxwqgRBLy"
      },
      "execution_count": null,
      "outputs": []
    }
  ]
}